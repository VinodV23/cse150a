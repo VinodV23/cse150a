{
 "cells": [
  {
   "cell_type": "markdown",
   "id": "5b572fd1",
   "metadata": {},
   "source": [
    "# Book Review Model"
   ]
  },
  {
   "cell_type": "markdown",
   "id": "67e9fd3d",
   "metadata": {},
   "source": [
    "# Data Processing"
   ]
  },
  {
   "cell_type": "code",
   "execution_count": null,
   "id": "5b18a010",
   "metadata": {},
   "outputs": [
    {
     "name": "stderr",
     "output_type": "stream",
     "text": [
      "/Users/vinodv./Library/Python/3.9/lib/python/site-packages/pgmpy/estimators/base.py:160: FutureWarning: The default of observed=False is deprecated and will be changed to True in a future version of pandas. Pass observed=False to retain current behavior or observed=True to adopt the future default and silence this warning.\n",
      "  data.groupby([variable] + parents).size().unstack(parents)\n"
     ]
    }
   ],
   "source": [
    "import pandas as pd\n",
    "from pgmpy.models import BayesianNetwork\n",
    "from pgmpy.estimators import MaximumLikelihoodEstimator\n",
    "from pgmpy.inference import VariableElimination\n",
    "import numpy as np\n",
    "\n",
    "#Come from GenAI to troubleshoot issue with numpy\n",
    "if not hasattr(np, 'product'):\n",
    "    np.product = np.prod\n",
    "\n",
    "ratings_df = pd.read_csv('Books_rating.csv')\n",
    "data_df = pd.read_csv('books_data.csv')\n",
    "df = pd.merge(ratings_df, data_df, on='Title')\n",
    "\n",
    "#Took a sample of it\n",
    "df = df.sample(n=1000, random_state=42)\n",
    "\n",
    "#Gets columns ready\n",
    "df['Book_Popularity'] = pd.qcut(df['ratingsCount'].fillna(0), q=2, labels=['Low', 'High'], duplicates='drop')\n",
    "df['Rating_Prediction'] = df['review/score'].astype(int).astype(str)\n",
    "\n",
    "df['Book_Popularity'] = pd.Categorical(df['Book_Popularity'], categories=['Low', 'High'])\n",
    "df['Rating_Prediction'] = pd.Categorical(df['Rating_Prediction'], categories=['1','2','3','4','5'])\n",
    "df.dropna(subset=['Book_Popularity', 'Rating_Prediction'], inplace=True)\n",
    "\n",
    "df = df[['Book_Popularity', 'Rating_Prediction']]\n",
    "\n",
    "model = BayesianNetwork([('Book_Popularity', 'Rating_Prediction')])\n",
    "model.fit(df[['Book_Popularity', 'Rating_Prediction']], estimator=MaximumLikelihoodEstimator)\n",
    "\n",
    "inference = VariableElimination(model)"
   ]
  },
  {
   "cell_type": "code",
   "execution_count": null,
   "id": "fe90e554",
   "metadata": {},
   "outputs": [
    {
     "name": "stderr",
     "output_type": "stream",
     "text": [
      "Finding Elimination Order: : 100%|██████████| 1/1 [00:00<00:00, 715.75it/s]\n",
      "Eliminating: Book_Popularity: 100%|██████████| 1/1 [00:00<00:00, 839.03it/s]"
     ]
    },
    {
     "name": "stdout",
     "output_type": "stream",
     "text": [
      "+----------------------+--------------------------+\n",
      "| Rating_Prediction    |   phi(Rating_Prediction) |\n",
      "+======================+==========================+\n",
      "| Rating_Prediction(1) |                   0.0700 |\n",
      "+----------------------+--------------------------+\n",
      "| Rating_Prediction(2) |                   0.0550 |\n",
      "+----------------------+--------------------------+\n",
      "| Rating_Prediction(3) |                   0.0770 |\n",
      "+----------------------+--------------------------+\n",
      "| Rating_Prediction(4) |                   0.2120 |\n",
      "+----------------------+--------------------------+\n",
      "| Rating_Prediction(5) |                   0.5860 |\n",
      "+----------------------+--------------------------+\n"
     ]
    },
    {
     "name": "stderr",
     "output_type": "stream",
     "text": [
      "\n"
     ]
    }
   ],
   "source": [
    "#Prob Distribution\n",
    "marginal_rating = inference.query(variables=['Rating_Prediction'])\n",
    "print(marginal_rating)"
   ]
  },
  {
   "cell_type": "code",
   "execution_count": 17,
   "id": "7b7ca6c4",
   "metadata": {},
   "outputs": [
    {
     "name": "stdout",
     "output_type": "stream",
     "text": [
      "Model nodes: ['Book_Popularity', 'Rating_Prediction']\n",
      "Model edges: [('Book_Popularity', 'Rating_Prediction')]\n",
      "\n",
      "CPTs:\n",
      "+-----------------------+-------+\n",
      "| Book_Popularity(High) | 0.473 |\n",
      "+-----------------------+-------+\n",
      "| Book_Popularity(Low)  | 0.527 |\n",
      "+-----------------------+-------+\n",
      "+----------------------+-----------------------+----------------------+\n",
      "| Book_Popularity      | Book_Popularity(High) | Book_Popularity(Low) |\n",
      "+----------------------+-----------------------+----------------------+\n",
      "| Rating_Prediction(1) | 0.06765327695560254   | 0.07210626185958255  |\n",
      "+----------------------+-----------------------+----------------------+\n",
      "| Rating_Prediction(2) | 0.05919661733615222   | 0.051233396584440226 |\n",
      "+----------------------+-----------------------+----------------------+\n",
      "| Rating_Prediction(3) | 0.07610993657505286   | 0.0777988614800759   |\n",
      "+----------------------+-----------------------+----------------------+\n",
      "| Rating_Prediction(4) | 0.20084566596194503   | 0.222011385199241    |\n",
      "+----------------------+-----------------------+----------------------+\n",
      "| Rating_Prediction(5) | 0.5961945031712473    | 0.5768500948766604   |\n",
      "+----------------------+-----------------------+----------------------+\n"
     ]
    }
   ],
   "source": [
    "#Shows CPTS\n",
    "print(\"Model nodes:\", model.nodes())\n",
    "print(\"Model edges:\", model.edges())\n",
    "\n",
    "print(\"\\nCPTs:\")\n",
    "for cpd in model.get_cpds():\n",
    "    print(cpd)\n"
   ]
  },
  {
   "cell_type": "code",
   "execution_count": null,
   "id": "9b9f7975",
   "metadata": {},
   "outputs": [
    {
     "name": "stderr",
     "output_type": "stream",
     "text": [
      "Finding Elimination Order: : : 0it [00:00, ?it/s]\n",
      "0it [00:00, ?it/s]\n"
     ]
    },
    {
     "name": "stdout",
     "output_type": "stream",
     "text": [
      "Given Book_Popularity = High:\n",
      "+----------------------+--------------------------+\n",
      "| Rating_Prediction    |   phi(Rating_Prediction) |\n",
      "+======================+==========================+\n",
      "| Rating_Prediction(1) |                   0.0677 |\n",
      "+----------------------+--------------------------+\n",
      "| Rating_Prediction(2) |                   0.0592 |\n",
      "+----------------------+--------------------------+\n",
      "| Rating_Prediction(3) |                   0.0761 |\n",
      "+----------------------+--------------------------+\n",
      "| Rating_Prediction(4) |                   0.2008 |\n",
      "+----------------------+--------------------------+\n",
      "| Rating_Prediction(5) |                   0.5962 |\n",
      "+----------------------+--------------------------+\n",
      "\n"
     ]
    },
    {
     "name": "stderr",
     "output_type": "stream",
     "text": [
      "Finding Elimination Order: : : 0it [00:00, ?it/s]\n",
      "0it [00:00, ?it/s]\n"
     ]
    },
    {
     "name": "stdout",
     "output_type": "stream",
     "text": [
      "Given Book_Popularity = Low:\n",
      "+----------------------+--------------------------+\n",
      "| Rating_Prediction    |   phi(Rating_Prediction) |\n",
      "+======================+==========================+\n",
      "| Rating_Prediction(1) |                   0.0721 |\n",
      "+----------------------+--------------------------+\n",
      "| Rating_Prediction(2) |                   0.0512 |\n",
      "+----------------------+--------------------------+\n",
      "| Rating_Prediction(3) |                   0.0778 |\n",
      "+----------------------+--------------------------+\n",
      "| Rating_Prediction(4) |                   0.2220 |\n",
      "+----------------------+--------------------------+\n",
      "| Rating_Prediction(5) |                   0.5769 |\n",
      "+----------------------+--------------------------+\n",
      "\n"
     ]
    },
    {
     "name": "stderr",
     "output_type": "stream",
     "text": [
      "Finding Elimination Order: : : 0it [00:00, ?it/s]\n",
      "0it [00:00, ?it/s]\n"
     ]
    },
    {
     "name": "stdout",
     "output_type": "stream",
     "text": [
      "Given Rating_Prediction = 5:\n",
      "+-----------------------+------------------------+\n",
      "| Book_Popularity       |   phi(Book_Popularity) |\n",
      "+=======================+========================+\n",
      "| Book_Popularity(High) |                 0.4812 |\n",
      "+-----------------------+------------------------+\n",
      "| Book_Popularity(Low)  |                 0.5188 |\n",
      "+-----------------------+------------------------+\n",
      "\n"
     ]
    },
    {
     "name": "stderr",
     "output_type": "stream",
     "text": [
      "Finding Elimination Order: : : 0it [00:00, ?it/s]\n",
      "0it [00:00, ?it/s]"
     ]
    },
    {
     "name": "stdout",
     "output_type": "stream",
     "text": [
      "Given Rating_Prediction = 1:\n",
      "+-----------------------+------------------------+\n",
      "| Book_Popularity       |   phi(Book_Popularity) |\n",
      "+=======================+========================+\n",
      "| Book_Popularity(High) |                 0.4571 |\n",
      "+-----------------------+------------------------+\n",
      "| Book_Popularity(Low)  |                 0.5429 |\n",
      "+-----------------------+------------------------+\n",
      "\n"
     ]
    },
    {
     "name": "stderr",
     "output_type": "stream",
     "text": [
      "\n"
     ]
    }
   ],
   "source": [
    "def predict_rating_given_popularity(popularity_value):\n",
    "    evidence = {'Book_Popularity': popularity_value}\n",
    "    query_result = inference.query(variables=['Rating_Prediction'], evidence=evidence)\n",
    "    print(f\"Given Book_Popularity = {popularity_value}:\")\n",
    "    print(query_result)\n",
    "    print()\n",
    "\n",
    "def predict_popularity_given_rating(rating_value):\n",
    "    evidence = {'Rating_Prediction': rating_value}\n",
    "    query_result = inference.query(variables=['Book_Popularity'], evidence=evidence)\n",
    "    print(f\"Given Rating_Prediction = {rating_value}:\")\n",
    "    print(query_result)\n",
    "    print()\n",
    "\n",
    "# Test predictions\n",
    "predict_rating_given_popularity('High')\n",
    "predict_rating_given_popularity('Low')\n",
    "\n",
    "predict_popularity_given_rating('5')\n",
    "predict_popularity_given_rating('1')"
   ]
  }
 ],
 "metadata": {
  "kernelspec": {
   "display_name": "Python 3",
   "language": "python",
   "name": "python3"
  },
  "language_info": {
   "codemirror_mode": {
    "name": "ipython",
    "version": 3
   },
   "file_extension": ".py",
   "mimetype": "text/x-python",
   "name": "python",
   "nbconvert_exporter": "python",
   "pygments_lexer": "ipython3",
   "version": "3.9.6"
  }
 },
 "nbformat": 4,
 "nbformat_minor": 5
}
