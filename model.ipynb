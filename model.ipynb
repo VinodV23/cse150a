{
 "cells": [
  {
   "cell_type": "markdown",
   "id": "5b572fd1",
   "metadata": {},
   "source": [
    "# Book Review Model"
   ]
  },
  {
   "cell_type": "markdown",
   "id": "67e9fd3d",
   "metadata": {},
   "source": [
    "## Setup"
   ]
  },
  {
   "cell_type": "code",
   "execution_count": null,
   "id": "5b18a010",
   "metadata": {},
   "outputs": [
    {
     "name": "stdout",
     "output_type": "stream",
     "text": [
      "['Id', 'Title', 'Price', 'User_id', 'profileName', 'review/helpfulness', 'review/score', 'review/time', 'review/summary', 'review/text', 'description', 'authors', 'image', 'previewLink', 'publisher', 'publishedDate', 'infoLink', 'categories', 'ratingsCount']\n"
     ]
    }
   ],
   "source": [
    "import pandas as pd\n",
    "from pgmpy.models import BayesianNetwork\n",
    "from pgmpy.estimators import MaximumLikelihoodEstimator\n",
    "from pgmpy.inference import VariableElimination\n",
    "import numpy as np\n",
    "from sklearn.model_selection import train_test_split\n",
    "\n",
    "#Come from GenAI to troubleshoot issue with numpy\n",
    "if not hasattr(np, 'product'):\n",
    "    np.product = np.prod\n",
    "\n",
    "ratings_df = pd.read_csv('Books_rating.csv')\n",
    "data_df = pd.read_csv('books_data.csv')\n",
    "df = pd.merge(ratings_df, data_df, on='Title')\n",
    "df = df.sample(n=1000, random_state=42)\n",
    "\n",
    "print(df.columns.tolist())"
   ]
  },
  {
   "cell_type": "code",
   "execution_count": 94,
   "id": "cc2c2790",
   "metadata": {},
   "outputs": [
    {
     "name": "stdout",
     "output_type": "stream",
     "text": [
      "(1000, 19)\n"
     ]
    }
   ],
   "source": [
    "print(df.shape)"
   ]
  },
  {
   "cell_type": "markdown",
   "id": "f518587d",
   "metadata": {},
   "source": [
    "## Column processing"
   ]
  },
  {
   "cell_type": "code",
   "execution_count": 95,
   "id": "4d1197b1",
   "metadata": {},
   "outputs": [],
   "source": [
    "cols = ['Book_Popularity', 'Rating_Prediction', 'Review_Length', 'Sentiment_Score', 'Time_Factor', 'Review_Helpfulness']\n",
    "\n",
    "df['Book_Popularity'] = pd.qcut(df['ratingsCount'].fillna(0), q=2, labels=['Low', 'High'], duplicates='drop')\n",
    "df['Book_Popularity'] = pd.Categorical(df['Book_Popularity'], categories=['Low', 'High'])\n",
    "\n",
    "df['Rating_Prediction'] = df['review/score'].astype(int).astype(str)\n",
    "df['Rating_Prediction'] = pd.Categorical(df['Rating_Prediction'], categories=['1','2','3','4','5'])\n",
    "\n",
    "df['Review_Length'] = pd.cut(df['review/text'].str.split().str.len(), bins=[0, 50, 150, np.inf], labels=['Short', 'Medium', 'Long'])\n",
    "\n",
    "df['Sentiment_Score'] = df['review/text'].str.lower().apply(lambda x: 'Positive' if 'good' in x or 'great' in x else ('Negative' if 'bad' in x else 'Neutral'))\n",
    "\n",
    "df['review/time'] = pd.to_datetime(df['review/time'], unit='s', errors='coerce')\n",
    "df['Time_Factor'] = pd.cut((pd.Timestamp.today() - df['review/time']).dt.days, bins=[0, 365, np.inf], labels=['Recent', 'Old'])\n",
    "\n",
    "def helpful_parser(x):\n",
    "    try:\n",
    "        num, den = map(int, str(x).split('/'))\n",
    "        return 'Helpful' if num > 0 else 'Not_Helpful'\n",
    "    except:\n",
    "        return 'Not_Helpful'\n",
    "\n",
    "df['Review_Helpfulness'] = df['review/helpfulness'].apply(helpful_parser)\n",
    "\n",
    "df.dropna(subset=cols, inplace=True)"
   ]
  },
  {
   "cell_type": "code",
   "execution_count": 96,
   "id": "3509ff4d",
   "metadata": {},
   "outputs": [],
   "source": [
    "df, test_df = train_test_split(df, test_size=0.1, random_state=42)"
   ]
  },
  {
   "cell_type": "code",
   "execution_count": 98,
   "id": "2046cc8f",
   "metadata": {},
   "outputs": [
    {
     "name": "stdout",
     "output_type": "stream",
     "text": [
      "(100, 25)\n",
      "(900, 25)\n"
     ]
    }
   ],
   "source": [
    "print(test_df.shape)\n",
    "print(df.shape)"
   ]
  },
  {
   "cell_type": "code",
   "execution_count": 99,
   "id": "98840485",
   "metadata": {},
   "outputs": [
    {
     "name": "stderr",
     "output_type": "stream",
     "text": [
      "/Users/vinodv./Library/Python/3.9/lib/python/site-packages/pgmpy/estimators/base.py:160: FutureWarning: The default of observed=False is deprecated and will be changed to True in a future version of pandas. Pass observed=False to retain current behavior or observed=True to adopt the future default and silence this warning.\n",
      "  data.groupby([variable] + parents).size().unstack(parents)\n",
      "/Users/vinodv./Library/Python/3.9/lib/python/site-packages/pgmpy/estimators/base.py:160: FutureWarning: The default of observed=False is deprecated and will be changed to True in a future version of pandas. Pass observed=False to retain current behavior or observed=True to adopt the future default and silence this warning.\n",
      "  data.groupby([variable] + parents).size().unstack(parents)\n"
     ]
    }
   ],
   "source": [
    "observed_edges = [\n",
    "    ('Book_Popularity', 'Review_Helpfulness'),\n",
    "    ('Review_Helpfulness', 'Rating_Prediction'),\n",
    "    ('Review_Length', 'Rating_Prediction'),\n",
    "    ('Sentiment_Score', 'Review_Helpfulness'),\n",
    "    ('Time_Factor', 'Sentiment_Score')\n",
    "]\n",
    "observed_model = BayesianNetwork(observed_edges)\n",
    "observed_cols = list(set(sum(observed_edges, ())))\n",
    "df_model = df[observed_cols].dropna()\n",
    "observed_model.fit(df_model, estimator=MaximumLikelihoodEstimator)"
   ]
  },
  {
   "cell_type": "code",
   "execution_count": 101,
   "id": "3060f6d6",
   "metadata": {},
   "outputs": [
    {
     "name": "stdout",
     "output_type": "stream",
     "text": [
      "Model nodes: ['Book_Popularity', 'Review_Helpfulness', 'Rating_Prediction', 'Review_Length', 'Sentiment_Score', 'Time_Factor']\n",
      "Model edges: [('Book_Popularity', 'Review_Helpfulness'), ('Review_Helpfulness', 'Rating_Prediction'), ('Review_Length', 'Rating_Prediction'), ('Sentiment_Score', 'Review_Helpfulness'), ('Time_Factor', 'Sentiment_Score')]\n",
      "\n",
      "CPTs:\n",
      "+-----------------------+----------+\n",
      "| Book_Popularity(High) | 0.484444 |\n",
      "+-----------------------+----------+\n",
      "| Book_Popularity(Low)  | 0.515556 |\n",
      "+-----------------------+----------+\n",
      "+---------------------------------+-----+---------------------------+\n",
      "| Book_Popularity                 | ... | Book_Popularity(Low)      |\n",
      "+---------------------------------+-----+---------------------------+\n",
      "| Sentiment_Score                 | ... | Sentiment_Score(Positive) |\n",
      "+---------------------------------+-----+---------------------------+\n",
      "| Review_Helpfulness(Helpful)     | ... | 0.7035175879396985        |\n",
      "+---------------------------------+-----+---------------------------+\n",
      "| Review_Helpfulness(Not_Helpful) | ... | 0.2964824120603015        |\n",
      "+---------------------------------+-----+---------------------------+\n",
      "+----------------------+-----+---------------------------------+\n",
      "| Review_Helpfulness   | ... | Review_Helpfulness(Not_Helpful) |\n",
      "+----------------------+-----+---------------------------------+\n",
      "| Review_Length        | ... | Review_Length(Short)            |\n",
      "+----------------------+-----+---------------------------------+\n",
      "| Rating_Prediction(1) | ... | 0.04827586206896552             |\n",
      "+----------------------+-----+---------------------------------+\n",
      "| Rating_Prediction(2) | ... | 0.027586206896551724            |\n",
      "+----------------------+-----+---------------------------------+\n",
      "| Rating_Prediction(3) | ... | 0.05517241379310345             |\n",
      "+----------------------+-----+---------------------------------+\n",
      "| Rating_Prediction(4) | ... | 0.2689655172413793              |\n",
      "+----------------------+-----+---------------------------------+\n",
      "| Rating_Prediction(5) | ... | 0.6                             |\n",
      "+----------------------+-----+---------------------------------+\n",
      "+-----------------------+----------+\n",
      "| Review_Length(Long)   | 0.292222 |\n",
      "+-----------------------+----------+\n",
      "| Review_Length(Medium) | 0.445556 |\n",
      "+-----------------------+----------+\n",
      "| Review_Length(Short)  | 0.262222 |\n",
      "+-----------------------+----------+\n",
      "+---------------------------+----------------------+\n",
      "| Time_Factor               | Time_Factor(Old)     |\n",
      "+---------------------------+----------------------+\n",
      "| Sentiment_Score(Negative) | 0.024444444444444446 |\n",
      "+---------------------------+----------------------+\n",
      "| Sentiment_Score(Neutral)  | 0.5755555555555556   |\n",
      "+---------------------------+----------------------+\n",
      "| Sentiment_Score(Positive) | 0.4                  |\n",
      "+---------------------------+----------------------+\n",
      "+------------------+---+\n",
      "| Time_Factor(Old) | 1 |\n",
      "+------------------+---+\n"
     ]
    }
   ],
   "source": [
    "#shows structure and cpts of the model\n",
    "print(\"Model nodes:\", observed_model.nodes())\n",
    "print(\"Model edges:\", observed_model.edges())\n",
    "\n",
    "print(\"\\nCPTs:\")\n",
    "for cpd in observed_model.get_cpds():\n",
    "    print(cpd)"
   ]
  },
  {
   "cell_type": "code",
   "execution_count": null,
   "id": "5198de72",
   "metadata": {},
   "outputs": [
    {
     "name": "stderr",
     "output_type": "stream",
     "text": [
      "Finding Elimination Order: : 100%|██████████| 5/5 [00:00<00:00, 6551.55it/s]\n",
      "Eliminating: Time_Factor: 100%|██████████| 5/5 [00:00<00:00, 1332.96it/s]\n"
     ]
    },
    {
     "name": "stdout",
     "output_type": "stream",
     "text": [
      "No Evidence:\n",
      "+----------------------+--------------------------+\n",
      "| Rating_Prediction    |   phi(Rating_Prediction) |\n",
      "+======================+==========================+\n",
      "| Rating_Prediction(1) |                   0.0733 |\n",
      "+----------------------+--------------------------+\n",
      "| Rating_Prediction(2) |                   0.0572 |\n",
      "+----------------------+--------------------------+\n",
      "| Rating_Prediction(3) |                   0.0807 |\n",
      "+----------------------+--------------------------+\n",
      "| Rating_Prediction(4) |                   0.2149 |\n",
      "+----------------------+--------------------------+\n",
      "| Rating_Prediction(5) |                   0.5739 |\n",
      "+----------------------+--------------------------+\n",
      "Test:\n"
     ]
    },
    {
     "name": "stderr",
     "output_type": "stream",
     "text": [
      "Finding Elimination Order: : : 0it [00:00, ?it/s]\n",
      "0it [00:00, ?it/s]"
     ]
    },
    {
     "name": "stdout",
     "output_type": "stream",
     "text": [
      "+----------------------+--------------------------+\n",
      "| Rating_Prediction    |   phi(Rating_Prediction) |\n",
      "+======================+==========================+\n",
      "| Rating_Prediction(1) |                   0.0483 |\n",
      "+----------------------+--------------------------+\n",
      "| Rating_Prediction(2) |                   0.0276 |\n",
      "+----------------------+--------------------------+\n",
      "| Rating_Prediction(3) |                   0.0552 |\n",
      "+----------------------+--------------------------+\n",
      "| Rating_Prediction(4) |                   0.2690 |\n",
      "+----------------------+--------------------------+\n",
      "| Rating_Prediction(5) |                   0.6000 |\n",
      "+----------------------+--------------------------+\n"
     ]
    },
    {
     "name": "stderr",
     "output_type": "stream",
     "text": [
      "\n"
     ]
    }
   ],
   "source": [
    "#inference is ready to be used now\n",
    "inference = VariableElimination(observed_model)\n",
    "\n",
    "#no evidence\n",
    "marginal_rating = inference.query(variables=['Rating_Prediction'])\n",
    "print(\"No Evidence:\")\n",
    "print(marginal_rating)\n",
    "\n",
    "\n",
    "#quick test with some evidence \n",
    "print(\"Test:\")\n",
    "test = inference.query(variables=['Rating_Prediction'], evidence={\n",
    "    'Book_Popularity': 'Low',\n",
    "    'Review_Length': 'Short',\n",
    "    'Time_Factor': 'Old',  \n",
    "    'Sentiment_Score': 'Negative',\n",
    "    'Review_Helpfulness': 'Not_Helpful'\n",
    "})\n",
    "print(test)\n",
    "#Note that it shows that the rating will likely be 4 or 5 stars"
   ]
  },
  {
   "cell_type": "code",
   "execution_count": null,
   "id": "19d2966a",
   "metadata": {},
   "outputs": [
    {
     "name": "stderr",
     "output_type": "stream",
     "text": [
      "Finding Elimination Order: : : 0it [00:00, ?it/s]\n",
      "0it [00:00, ?it/s]\n",
      "Finding Elimination Order: : : 0it [00:00, ?it/s]\n",
      "0it [00:00, ?it/s]\n",
      "Finding Elimination Order: : : 0it [00:00, ?it/s]\n",
      "0it [00:00, ?it/s]\n",
      "Finding Elimination Order: : : 0it [00:00, ?it/s]\n",
      "0it [00:00, ?it/s]\n",
      "Finding Elimination Order: : : 0it [00:00, ?it/s]\n",
      "0it [00:00, ?it/s]\n",
      "Finding Elimination Order: : : 0it [00:00, ?it/s]\n",
      "0it [00:00, ?it/s]\n",
      "Finding Elimination Order: : : 0it [00:00, ?it/s]\n",
      "0it [00:00, ?it/s]\n",
      "Finding Elimination Order: : : 0it [00:00, ?it/s]\n",
      "0it [00:00, ?it/s]\n",
      "Finding Elimination Order: : : 0it [00:00, ?it/s]\n",
      "0it [00:00, ?it/s]\n",
      "Finding Elimination Order: : : 0it [00:00, ?it/s]\n",
      "0it [00:00, ?it/s]\n",
      "Finding Elimination Order: : : 0it [00:00, ?it/s]\n",
      "0it [00:00, ?it/s]\n",
      "Finding Elimination Order: : : 0it [00:00, ?it/s]\n",
      "0it [00:00, ?it/s]\n",
      "Finding Elimination Order: : : 0it [00:00, ?it/s]\n",
      "0it [00:00, ?it/s]\n",
      "Finding Elimination Order: : : 0it [00:00, ?it/s]\n",
      "0it [00:00, ?it/s]\n",
      "Finding Elimination Order: : : 0it [00:00, ?it/s]\n",
      "0it [00:00, ?it/s]\n",
      "Finding Elimination Order: : : 0it [00:00, ?it/s]\n",
      "0it [00:00, ?it/s]\n",
      "Finding Elimination Order: : : 0it [00:00, ?it/s]\n",
      "0it [00:00, ?it/s]\n",
      "Finding Elimination Order: : : 0it [00:00, ?it/s]\n",
      "0it [00:00, ?it/s]\n",
      "Finding Elimination Order: : : 0it [00:00, ?it/s]\n",
      "0it [00:00, ?it/s]\n",
      "Finding Elimination Order: : : 0it [00:00, ?it/s]\n",
      "0it [00:00, ?it/s]\n",
      "Finding Elimination Order: : : 0it [00:00, ?it/s]\n",
      "0it [00:00, ?it/s]\n",
      "Finding Elimination Order: : : 0it [00:00, ?it/s]\n",
      "0it [00:00, ?it/s]\n",
      "Finding Elimination Order: : : 0it [00:00, ?it/s]\n",
      "0it [00:00, ?it/s]\n",
      "Finding Elimination Order: : : 0it [00:00, ?it/s]\n",
      "0it [00:00, ?it/s]\n",
      "Finding Elimination Order: : : 0it [00:00, ?it/s]\n",
      "0it [00:00, ?it/s]\n",
      "Finding Elimination Order: : : 0it [00:00, ?it/s]\n",
      "0it [00:00, ?it/s]\n",
      "Finding Elimination Order: : : 0it [00:00, ?it/s]\n",
      "0it [00:00, ?it/s]\n",
      "Finding Elimination Order: : : 0it [00:00, ?it/s]\n",
      "0it [00:00, ?it/s]\n",
      "Finding Elimination Order: : : 0it [00:00, ?it/s]\n",
      "0it [00:00, ?it/s]\n",
      "Finding Elimination Order: : : 0it [00:00, ?it/s]\n",
      "0it [00:00, ?it/s]\n",
      "Finding Elimination Order: : : 0it [00:00, ?it/s]\n",
      "0it [00:00, ?it/s]\n",
      "Finding Elimination Order: : : 0it [00:00, ?it/s]\n",
      "0it [00:00, ?it/s]\n",
      "Finding Elimination Order: : : 0it [00:00, ?it/s]\n",
      "0it [00:00, ?it/s]\n",
      "Finding Elimination Order: : : 0it [00:00, ?it/s]\n",
      "0it [00:00, ?it/s]\n",
      "Finding Elimination Order: : : 0it [00:00, ?it/s]\n",
      "0it [00:00, ?it/s]\n",
      "Finding Elimination Order: : : 0it [00:00, ?it/s]\n",
      "0it [00:00, ?it/s]\n",
      "Finding Elimination Order: : : 0it [00:00, ?it/s]\n",
      "0it [00:00, ?it/s]\n",
      "Finding Elimination Order: : : 0it [00:00, ?it/s]\n",
      "0it [00:00, ?it/s]\n",
      "Finding Elimination Order: : : 0it [00:00, ?it/s]\n",
      "0it [00:00, ?it/s]\n",
      "Finding Elimination Order: : : 0it [00:00, ?it/s]\n",
      "0it [00:00, ?it/s]\n",
      "Finding Elimination Order: : : 0it [00:00, ?it/s]\n",
      "0it [00:00, ?it/s]\n",
      "Finding Elimination Order: : : 0it [00:00, ?it/s]\n",
      "0it [00:00, ?it/s]\n",
      "Finding Elimination Order: : : 0it [00:00, ?it/s]\n",
      "0it [00:00, ?it/s]\n",
      "Finding Elimination Order: : : 0it [00:00, ?it/s]\n",
      "0it [00:00, ?it/s]\n",
      "Finding Elimination Order: : : 0it [00:00, ?it/s]\n",
      "0it [00:00, ?it/s]\n",
      "Finding Elimination Order: : : 0it [00:00, ?it/s]\n",
      "0it [00:00, ?it/s]\n",
      "Finding Elimination Order: : : 0it [00:00, ?it/s]\n",
      "0it [00:00, ?it/s]\n",
      "Finding Elimination Order: : : 0it [00:00, ?it/s]\n",
      "0it [00:00, ?it/s]\n",
      "Finding Elimination Order: : : 0it [00:00, ?it/s]\n",
      "0it [00:00, ?it/s]\n",
      "Finding Elimination Order: : : 0it [00:00, ?it/s]\n",
      "0it [00:00, ?it/s]\n",
      "Finding Elimination Order: : : 0it [00:00, ?it/s]\n",
      "0it [00:00, ?it/s]\n",
      "Finding Elimination Order: : : 0it [00:00, ?it/s]\n",
      "0it [00:00, ?it/s]\n",
      "Finding Elimination Order: : : 0it [00:00, ?it/s]\n",
      "0it [00:00, ?it/s]\n",
      "Finding Elimination Order: : : 0it [00:00, ?it/s]\n",
      "0it [00:00, ?it/s]\n",
      "Finding Elimination Order: : : 0it [00:00, ?it/s]\n",
      "0it [00:00, ?it/s]\n",
      "Finding Elimination Order: : : 0it [00:00, ?it/s]\n",
      "0it [00:00, ?it/s]\n",
      "Finding Elimination Order: : : 0it [00:00, ?it/s]\n",
      "0it [00:00, ?it/s]\n",
      "Finding Elimination Order: : : 0it [00:00, ?it/s]\n",
      "0it [00:00, ?it/s]\n",
      "Finding Elimination Order: : : 0it [00:00, ?it/s]\n",
      "0it [00:00, ?it/s]\n",
      "Finding Elimination Order: : : 0it [00:00, ?it/s]\n",
      "0it [00:00, ?it/s]\n",
      "Finding Elimination Order: : : 0it [00:00, ?it/s]\n",
      "0it [00:00, ?it/s]\n",
      "Exception ignored in: <bound method IPythonKernel._clean_thread_parent_frames of <ipykernel.ipkernel.IPythonKernel object at 0x1035a92b0>>\n",
      "Traceback (most recent call last):\n",
      "  File \"/Users/vinodv./Library/Python/3.9/lib/python/site-packages/ipykernel/ipkernel.py\", line 775, in _clean_thread_parent_frames\n",
      "    def _clean_thread_parent_frames(\n",
      "KeyboardInterrupt: \n",
      "Finding Elimination Order: : : 0it [00:00, ?it/s]\n",
      "0it [00:00, ?it/s]\n",
      "Finding Elimination Order: : : 0it [00:00, ?it/s]\n",
      "0it [00:00, ?it/s]\n",
      "Finding Elimination Order: : : 0it [00:00, ?it/s]\n",
      "0it [00:00, ?it/s]\n",
      "Finding Elimination Order: : : 0it [00:00, ?it/s]\n",
      "0it [00:00, ?it/s]\n",
      "Finding Elimination Order: : : 0it [00:00, ?it/s]\n",
      "0it [00:00, ?it/s]\n",
      "Finding Elimination Order: : : 0it [00:00, ?it/s]\n",
      "0it [00:00, ?it/s]\n",
      "Finding Elimination Order: : : 0it [00:00, ?it/s]\n",
      "0it [00:00, ?it/s]\n",
      "Finding Elimination Order: : : 0it [00:00, ?it/s]\n",
      "0it [00:00, ?it/s]\n",
      "Finding Elimination Order: : : 0it [00:00, ?it/s]\n",
      "0it [00:00, ?it/s]\n",
      "Finding Elimination Order: : : 0it [00:00, ?it/s]\n",
      "0it [00:00, ?it/s]\n",
      "Finding Elimination Order: : : 0it [00:00, ?it/s]\n",
      "0it [00:00, ?it/s]\n",
      "Finding Elimination Order: : : 0it [00:00, ?it/s]\n",
      "0it [00:00, ?it/s]\n",
      "Finding Elimination Order: : : 0it [00:00, ?it/s]\n",
      "0it [00:00, ?it/s]\n",
      "Finding Elimination Order: : : 0it [00:00, ?it/s]\n",
      "0it [00:00, ?it/s]\n",
      "Finding Elimination Order: : : 0it [00:00, ?it/s]\n",
      "0it [00:00, ?it/s]\n",
      "Finding Elimination Order: : : 0it [00:00, ?it/s]\n",
      "0it [00:00, ?it/s]\n",
      "Finding Elimination Order: : : 0it [00:00, ?it/s]\n",
      "0it [00:00, ?it/s]\n",
      "Finding Elimination Order: : : 0it [00:00, ?it/s]\n",
      "0it [00:00, ?it/s]\n",
      "Finding Elimination Order: : : 0it [00:00, ?it/s]\n",
      "0it [00:00, ?it/s]\n",
      "Finding Elimination Order: : : 0it [00:00, ?it/s]\n",
      "0it [00:00, ?it/s]\n",
      "Finding Elimination Order: : : 0it [00:00, ?it/s]\n",
      "0it [00:00, ?it/s]\n",
      "Finding Elimination Order: : : 0it [00:00, ?it/s]\n",
      "0it [00:00, ?it/s]\n",
      "Finding Elimination Order: : : 0it [00:00, ?it/s]\n",
      "0it [00:00, ?it/s]\n",
      "Finding Elimination Order: : : 0it [00:00, ?it/s]\n",
      "0it [00:00, ?it/s]\n",
      "Finding Elimination Order: : : 0it [00:00, ?it/s]\n",
      "0it [00:00, ?it/s]\n",
      "Finding Elimination Order: : : 0it [00:00, ?it/s]\n",
      "0it [00:00, ?it/s]\n",
      "Finding Elimination Order: : : 0it [00:00, ?it/s]\n",
      "0it [00:00, ?it/s]\n",
      "Finding Elimination Order: : : 0it [00:00, ?it/s]\n",
      "0it [00:00, ?it/s]\n",
      "Finding Elimination Order: : : 0it [00:00, ?it/s]\n",
      "0it [00:00, ?it/s]\n",
      "Finding Elimination Order: : : 0it [00:00, ?it/s]\n",
      "0it [00:00, ?it/s]\n",
      "Finding Elimination Order: : : 0it [00:00, ?it/s]\n",
      "0it [00:00, ?it/s]\n",
      "Finding Elimination Order: : : 0it [00:00, ?it/s]\n",
      "0it [00:00, ?it/s]\n",
      "Finding Elimination Order: : : 0it [00:00, ?it/s]\n",
      "0it [00:00, ?it/s]\n",
      "Finding Elimination Order: : : 0it [00:00, ?it/s]\n",
      "0it [00:00, ?it/s]\n",
      "Finding Elimination Order: : : 0it [00:00, ?it/s]\n",
      "0it [00:00, ?it/s]\n",
      "Finding Elimination Order: : : 0it [00:00, ?it/s]\n",
      "0it [00:00, ?it/s]\n",
      "Finding Elimination Order: : : 0it [00:00, ?it/s]\n",
      "0it [00:00, ?it/s]\n",
      "Finding Elimination Order: : : 0it [00:00, ?it/s]\n",
      "0it [00:00, ?it/s]\n",
      "Finding Elimination Order: : : 0it [00:00, ?it/s]\n",
      "0it [00:00, ?it/s]"
     ]
    },
    {
     "name": "stdout",
     "output_type": "stream",
     "text": [
      "Accuracy on test set: 64.00%\n"
     ]
    },
    {
     "name": "stderr",
     "output_type": "stream",
     "text": [
      "\n"
     ]
    }
   ],
   "source": [
    "correct = 0\n",
    "total = 0\n",
    "\n",
    "for _ , row in test_df.iterrows():\n",
    "    evidence = {\n",
    "        'Book_Popularity': row['Book_Popularity'],\n",
    "        'Review_Length': row['Review_Length'],\n",
    "        'Sentiment_Score': row['Sentiment_Score'],\n",
    "        'Time_Factor': row['Time_Factor'],\n",
    "        'Review_Helpfulness': row['Review_Helpfulness']\n",
    "    }\n",
    "    try:\n",
    "        query_result = inference.query(variables=['Rating_Prediction'], evidence=evidence)\n",
    "        predicted = query_result.values.argmax() + 1  # since '1'-'5' ratings\n",
    "        actual = int(row['Rating_Prediction'])\n",
    "\n",
    "        if predicted == actual:\n",
    "            correct += 1\n",
    "        total += 1\n",
    "        \n",
    "    except:\n",
    "        continue \n",
    "\n",
    "accuracy = correct / total\n",
    "print(f\"Accuracy on test set: {accuracy:.2%}\")"
   ]
  },
  {
   "cell_type": "markdown",
   "id": "5c15f90e",
   "metadata": {},
   "source": [
    "Test set accuracy of 64%"
   ]
  }
 ],
 "metadata": {
  "kernelspec": {
   "display_name": "Python 3",
   "language": "python",
   "name": "python3"
  },
  "language_info": {
   "codemirror_mode": {
    "name": "ipython",
    "version": 3
   },
   "file_extension": ".py",
   "mimetype": "text/x-python",
   "name": "python",
   "nbconvert_exporter": "python",
   "pygments_lexer": "ipython3",
   "version": "3.9.6"
  }
 },
 "nbformat": 4,
 "nbformat_minor": 5
}
